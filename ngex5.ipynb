{
 "cells": [
  {
   "cell_type": "markdown",
   "metadata": {},
   "source": [
    "AIM #1: Loading the dataset and printing basic information \n",
    "1. Import the Titanic dataset using pandas\n",
    "2. Create a Dataframe from the dataset\n",
    "3. Print the first 10 rows of the dataset\n",
    "4. Print the last 20 rows of the dataset\n",
    "5. Print dataset's information\n",
    "6. Describe the dataset\n",
    "7. Make sure all the information returned by the different functions are displayed in a single table and not on multiple ines"
   ]
  },
  {
   "cell_type": "code",
   "metadata": {
    "ExecuteTime": {
     "end_time": "2024-09-25T06:33:34.628267Z",
     "start_time": "2024-09-25T06:33:34.616379Z"
    }
   },
   "source": [
    "# 1. Import the Titanic dataset using pandas\n",
    "import pandas as pd\n",
    "\n",
    "# 2. Create a Dataframe from the dataset\n",
    "titanic_df = pd.read_csv('titanic.csv')\n",
    "\n",
    "# 3. Print the first 10 rows of the dataset\n",
    "print(titanic_df.head(10))\n",
    "\n",
    "# 4. Print the last 20 rows of the dataset\n",
    "print(titanic_df.tail(20))\n",
    "\n",
    "# 5. Print dataset's information\n",
    "print(titanic_df.info())\n",
    "\n",
    "# 6. Describe the dataset\n",
    "print(titanic_df.describe())\n",
    "\n",
    "# 7. Make sure all the information returned by the different functions are displayed in a single table and not on multiple lines\n",
    "print(titanic_df.describe().T)"
   ],
   "outputs": [
    {
     "ename": "ModuleNotFoundError",
     "evalue": "No module named 'pandas'",
     "output_type": "error",
     "traceback": [
      "\u001B[1;31m---------------------------------------------------------------------------\u001B[0m",
      "\u001B[1;31mModuleNotFoundError\u001B[0m                       Traceback (most recent call last)",
      "Cell \u001B[1;32mIn[25], line 2\u001B[0m\n\u001B[0;32m      1\u001B[0m \u001B[38;5;66;03m# 1. Import the Titanic dataset using pandas\u001B[39;00m\n\u001B[1;32m----> 2\u001B[0m \u001B[38;5;28;01mimport\u001B[39;00m \u001B[38;5;21;01mpandas\u001B[39;00m \u001B[38;5;28;01mas\u001B[39;00m \u001B[38;5;21;01mpd\u001B[39;00m\n\u001B[0;32m      4\u001B[0m \u001B[38;5;66;03m# 2. Create a Dataframe from the dataset\u001B[39;00m\n\u001B[0;32m      5\u001B[0m titanic_df \u001B[38;5;241m=\u001B[39m pd\u001B[38;5;241m.\u001B[39mread_csv(\u001B[38;5;124m'\u001B[39m\u001B[38;5;124mD:/titanic.csv\u001B[39m\u001B[38;5;124m'\u001B[39m)\n",
      "\u001B[1;31mModuleNotFoundError\u001B[0m: No module named 'pandas'"
     ]
    }
   ],
   "execution_count": 25
  },
  {
   "cell_type": "markdown",
   "metadata": {},
   "source": [
    "AIM #2: Finding issues (empty, NAs, incorrect value, incorrect format, outliers, etc.) \n",
    "1. Find out how many missing values there are in the dataset\n",
    "2. For the 'Age' column, find the best way to handle the missing values\n",
    "    2.1. Use an appropriate plot to study the nature of the 'Age' column\n",
    "    2.2. Figure out what is the best way to calculate the central tendency of the 'Age' column based on the above plot\n",
    "    2.3. Using the most suitable central tendency measure, fill the missing values in the age column\n",
    "3. Decide what is the best way to handle the missing values in the 'Cabin' columns\n",
    "4. Similarly, decide what is the best way to handle the missing values in the 'Embarked' columns\n",
    "5. Handle the incorrect data under the 'Survived' columns using appropriate measure\n",
    "6. Handle the incorrectly formatted data under the 'Fare' column\n"
   ]
  },
  {
   "cell_type": "code",
   "metadata": {
    "ExecuteTime": {
     "end_time": "2024-09-25T06:18:42.749667Z",
     "start_time": "2024-09-25T06:18:42.738213Z"
    }
   },
   "source": [
    "# 1. Check for missing values in the dataframe\n",
    "print(titanic_df.isnull().sum())\n",
    "\n",
    "# 2. Check the data types of each column\n",
    "print(titanic_df.dtypes)\n",
    "\n",
    "# 3. Replace the missing 'Age' values with the mean of the column\n",
    "titanic_df['Age'].fillna(titanic_df['Age'].mean(), inplace=True)\n",
    "\n",
    "# 4. Replace the missing 'Embarked' values with the mode of the column\n",
    "embarked_mode = titanic_df['Embarked'].mode()[0]\n",
    "titanic_df['Embarked'].fillna(embarked_mode, inplace=True)\n",
    "\n",
    "# 5. Replace the missing 'Fare' values with the median of the column\n",
    "titanic_df['Fare'].fillna(titanic_df['Fare'].median(), inplace=True)\n",
    "\n",
    "# 6. Convert 'Cabin' to a categorical data type\n",
    "titanic_df['Cabin'] = titanic_df['Cabin'].astype('category')\n",
    "\n",
    "# 7. Convert 'Pclass' to a categorical data type\n",
    "titanic_df['Pclass'] = titanic_df['Pclass'].astype('category')\n",
    "\n",
    "# 8. Check again for missing values in the dataframe\n",
    "print(titanic_df.isnull().sum())"
   ],
   "outputs": [
    {
     "ename": "NameError",
     "evalue": "name 'titanic_df' is not defined",
     "output_type": "error",
     "traceback": [
      "\u001B[1;31m---------------------------------------------------------------------------\u001B[0m",
      "\u001B[1;31mNameError\u001B[0m                                 Traceback (most recent call last)",
      "Cell \u001B[1;32mIn[6], line 2\u001B[0m\n\u001B[0;32m      1\u001B[0m \u001B[38;5;66;03m# 1. Check for missing values in the dataframe\u001B[39;00m\n\u001B[1;32m----> 2\u001B[0m \u001B[38;5;28mprint\u001B[39m(\u001B[43mtitanic_df\u001B[49m\u001B[38;5;241m.\u001B[39misnull()\u001B[38;5;241m.\u001B[39msum())\n\u001B[0;32m      4\u001B[0m \u001B[38;5;66;03m# 2. Check the data types of each column\u001B[39;00m\n\u001B[0;32m      5\u001B[0m \u001B[38;5;28mprint\u001B[39m(titanic_df\u001B[38;5;241m.\u001B[39mdtypes)\n",
      "\u001B[1;31mNameError\u001B[0m: name 'titanic_df' is not defined"
     ]
    }
   ],
   "execution_count": 6
  },
  {
   "cell_type": "code",
   "metadata": {
    "ExecuteTime": {
     "end_time": "2024-09-24T14:39:27.732367Z",
     "start_time": "2024-09-24T14:39:27.732367Z"
    }
   },
   "source": [],
   "outputs": [],
   "execution_count": null
  },
  {
   "cell_type": "markdown",
   "metadata": {},
   "source": [
    "AIM #3: Grouping \n",
    "1. Find out the average fare grouped by Pclass\n",
    "    1.1. Plot the above using a suitable plot\n",
    "2. Find out the average fare grouped by Sex\n",
    "    2.1. Plot the above using a suitable plot"
   ]
  },
  {
   "cell_type": "code",
   "metadata": {},
   "source": [
    "# 1. Find out the average fare grouped by Pclass\n",
    "avg_fare_pclass = titanic_df.groupby('Pclass')['Fare'].mean()\n",
    "print(avg_fare_pclass)\n",
    "\n",
    "# 1.1. Plot the above using a suitable plot\n",
    "import matplotlib.pyplot as plt\n",
    "avg_fare_pclass.plot(kind='bar')\n",
    "plt.title('Average Fare by Pclass')\n",
    "plt.xlabel('Pclass')\n",
    "plt.ylabel('Average Fare')\n",
    "plt.show()\n",
    "\n",
    "# 2. Find out the average fare grouped by Sex\n",
    "avg_fare_sex = titanic_df.groupby('Sex')['Fare'].mean()\n",
    "print(avg_fare_sex)\n",
    "\n",
    "# 2.1. Plot the above using a suitable plot\n",
    "avg_fare_sex.plot(kind='bar')\n",
    "plt.title('Average Fare by Sex')\n",
    "plt.xlabel('Sex')\n",
    "plt.ylabel('Average Fare')\n",
    "plt.show()"
   ],
   "outputs": [],
   "execution_count": null
  },
  {
   "cell_type": "markdown",
   "metadata": {},
   "source": [
    "AIM #4: Dataset visualization using pandas\n",
    "\n",
    "1. Plot the distribution of 'Age' using a suitable plot\n",
    "2. Plot the distribution of 'Fare' using a suitable plot\n",
    "3. Plot the distribution of 'Pclass' using a suitable plot\n",
    "4. Plot the distribution of 'Survived' using a suitable plot\n",
    "5. Plot the distribution of 'Embarked' using a suitable plot\n",
    "6. Plot the distribution of 'Fare' grouped by 'Survived'\n",
    "7. Plot the distribution of 'Fare' grouped by 'Pclass'\n",
    "8. Plot the distribution of 'Age' grouped by 'Survived'\n",
    "9. Plot the distribution of 'Age' grouped by 'PClass'\n",
    "10. Combine the 'SibSp' and 'Parch' and plot its distribution grouped by 'Survived'\n",
    "11. Combine the 'SibSp' and 'Parch' and plot its distribution grouped by 'Pclass'\n",
    "12. Plot a distribution between 'Age' and 'Fare' to see if there's any relationship\n",
    "13. Are there any other possibilities to show relationships?"
   ]
  },
  {
   "cell_type": "code",
   "metadata": {},
   "source": [
    "# 1. Plot the distribution of 'Age' using a suitable plot\n",
    "titanic_df['Age'].hist()\n",
    "plt.title('Age Distribution')\n",
    "plt.xlabel('Age')\n",
    "plt.ylabel('Frequency')\n",
    "plt.show()\n",
    "\n",
    "# 2. Plot the distribution of 'Fare' using a suitable plot\n",
    "titanic_df['Fare'].hist()\n",
    "plt.title('Fare Distribution')\n",
    "plt.xlabel('Fare')\n",
    "plt.ylabel('Frequency')\n",
    "plt.show()\n",
    "\n",
    "# 3. Plot the distribution of 'Pclass' using a suitable plot\n",
    "titanic_df['Pclass'].value_counts().plot(kind='bar')\n",
    "plt.title('Pclass Distribution')\n",
    "plt.xlabel('Pclass')\n",
    "plt.ylabel('Frequency')\n",
    "plt.show()\n",
    "\n",
    "# 4. Plot the distribution of 'Survived' using a suitable plot\n",
    "titanic_df['Survived'].value_counts().plot(kind='bar')\n",
    "plt.title('Survival Distribution')\n",
    "plt.xlabel('Survived')\n",
    "plt.ylabel('Count')\n",
    "plt.show()\n",
    "\n",
    "# 5. Plot the distribution of 'Embarked' using a suitable plot\n",
    "titanic_df['Embarked'].value_counts().plot(kind='bar')\n",
    "plt.title('Embarked Port Distribution')\n",
    "plt.xlabel('Embarked Port')\n",
    "plt.ylabel('Count')\n",
    "plt.show()\n",
    "\n",
    "# 6. Plot the distribution of 'Fare' grouped by 'Survived'\n",
    "titanic_df.groupby('Survived')['Fare'].mean().plot(kind='bar')\n",
    "plt.title('Average Fare by Survival')\n",
    "plt.xlabel('Survived')\n",
    "plt.ylabel('Average Fare')\n",
    "plt.show()\n",
    "\n",
    "# 7. Plot the distribution of 'Fare' grouped by 'Pclass'\n",
    "titanic_df.groupby('Pclass')['Fare'].mean().plot(kind='bar')\n",
    "plt.title('Average Fare by Pclass')\n",
    "plt.xlabel('Pclass')\n",
    "plt.ylabel('Average Fare')\n",
    "plt.show()\n",
    "\n",
    "# 8. Plot the distribution of 'Age' grouped by 'Survived'\n",
    "titanic_df.groupby('Survived')['Age'].mean().plot(kind='bar')\n",
    "plt.title('Average Age by Survival')\n",
    "plt.xlabel('Survived')\n",
    "plt.ylabel('Average Age')\n",
    "plt.show()\n",
    "\n",
    "# 9. Plot the distribution of 'Age' grouped by 'PClass'\n",
    "titanic_df.groupby('Pclass')['Age'].mean().plot(kind='bar')\n",
    "plt.title('Average Age by Pclass')\n",
    "plt.xlabel('Pclass')\n",
    "plt.ylabel('Average Age')\n",
    "plt.show()\n",
    "\n",
    "# 10. Combine the 'SibSp' and 'Parch' and plot its distribution grouped by 'Survived'\n",
    "titanic_df['FamilySize'] = titanic_df['SibSp'] + titanic_df['Parch'] + 1\n",
    "titanic_df.groupby('Survived')['FamilySize'].mean().plot(kind='bar')\n",
    "plt.title('Average Family Size by Survival')\n",
    "plt.xlabel('Survived')\n",
    "plt.ylabel('Average Family Size')\n",
    "plt.show()\n",
    "\n",
    "# 11. Combine the 'SibSp' and 'Parch' and plot its distribution grouped by 'Pclass'\n",
    "titanic_df.groupby('Pclass')['FamilySize'].mean().plot(kind='bar')\n",
    "plt.title('Average Family Size by Pclass')\n",
    "plt.xlabel('Pclass')\n",
    "plt.ylabel('Average Family Size')\n",
    "plt.show()\n",
    "\n",
    "# 12. Plot a distribution between 'Age' and 'Fare' to see if there's any relationship\n",
    "plt.scatter(titanic_df['Age'], titanic_df['Fare'])\n",
    "plt.title('Age vs Fare')\n",
    "plt.xlabel('Age')\n",
    "plt.ylabel('Fare')\n",
    "plt.show()\n",
    "\n",
    "# 13. Are there any other possibilities to show relationships?\n",
    "corr_matrix = titanic_df.corr()\n",
    "print(corr_matrix)"
   ],
   "outputs": [],
   "execution_count": null
  },
  {
   "cell_type": "markdown",
   "metadata": {},
   "source": [
    "AIM #5: Correlation\n",
    "\n",
    "1. Generate a correlation matrix for the entire dataset\n",
    "2. Find correlation between 'Age' and 'Fare'\n",
    "3. What other possible correlations can be found in the dataset?"
   ]
  },
  {
   "cell_type": "code",
   "metadata": {},
   "source": [
    "# 1. Generate a correlation matrix for the entire dataset\n",
    "corr_matrix = titanic_df.corr()\n",
    "print(corr_matrix)\n",
    "\n",
    "# 2. Find correlation between 'Age' and 'Fare'\n",
    "age_fare_corr = corr_matrix['Age']['Fare']\n",
    "print(f\"Correlation between Age and Fare: {age_fare_corr}\")\n",
    "\n",
    "# 3. What other possible correlations can be found in the dataset?\n",
    "# This would require exploring the correlation matrix and looking for other high or low values"
   ],
   "outputs": [],
   "execution_count": null
  }
 ],
 "metadata": {
  "kernelspec": {
   "display_name": "Python 3",
   "language": "python",
   "name": "python3"
  },
  "language_info": {
   "codemirror_mode": {
    "name": "ipython",
    "version": 3
   },
   "file_extension": ".py",
   "mimetype": "text/x-python",
   "name": "python",
   "nbconvert_exporter": "python",
   "pygments_lexer": "ipython3",
   "version": "3.11.5"
  }
 },
 "nbformat": 4,
 "nbformat_minor": 2
}
